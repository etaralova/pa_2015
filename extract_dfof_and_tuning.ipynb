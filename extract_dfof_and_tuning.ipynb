{
 "cells": [
  {
   "cell_type": "code",
   "execution_count": 6,
   "metadata": {
    "collapsed": false,
    "scrolled": true
   },
   "outputs": [],
   "source": [
    "import cPickle as pickle\n",
    "import numpy as np\n",
    "import pandas as pd\n",
    "import h5py\n",
    "import matplotlib.pyplot as plt\n",
    "import matplotlib as mpl\n",
    "import CAM_NWB as cn\n",
    "\n",
    "%matplotlib inline"
   ]
  },
  {
   "cell_type": "code",
   "execution_count": 7,
   "metadata": {
    "collapsed": false
   },
   "outputs": [],
   "source": [
    "#path = ('/Volumes/Brain2015/CAM/')\n",
    "#this path should have the pkl meta files, and the \"baselines\" dir with the \n",
    "#pre-computed means of the traces per area\n",
    "baseline_path = ('/Users/etaralova/src/pa_2015/')\n",
    "group = ('185282')\n",
    "#how the mean was computed:\n",
    "baseline_method = ('_mean_preStim_responses')\n"
   ]
  },
  {
   "cell_type": "code",
   "execution_count": 9,
   "metadata": {
    "collapsed": false
   },
   "outputs": [],
   "source": [
    "#the actual traces:\n",
    "traces = np.load('/Volumes/Brain2015/Steph/' + 'traces_' + group + '.npy')\n",
    "#traces is a 3d array: #rois, #trials, responses (extracted with Extract CAM data by area), \n",
    "#where responses are computed with intersweep=30 before and after the trial, and sweeplength = 60 \n",
    "\n",
    "#meta:\n",
    "pklfile = open(baseline_path + 'CAM_Meta.pkl', 'r') # importing the compiled CAM meta data\n",
    "CAM_Meta = pickle.load(pklfile)\n",
    "pklfile.close()\n",
    "CAM_Meta_X = CAM_Meta[(CAM_Meta.specimen==group)]\n",
    "group_ids = list(CAM_Meta_X.lims_id)\n",
    "print group_ids\n"
   ]
  },
  {
   "cell_type": "code",
   "execution_count": null,
   "metadata": {
    "collapsed": true
   },
   "outputs": [],
   "source": [
    "#take the DFF traces and output them in csv format along with orient and temp_f info\n",
    "#skeleton code taken from S. Seeman, modified by E. Taralova\n",
    "for x, filename in enumerate(group_ids):\n",
    "    print x,filename\n",
    "    exp_traces = traces[x]\n",
    "    baseline = np.load(path + 'baselines' + '/' + filename + baseline_method + '.npy')\n",
    "    baseline = baseline.T\n",
    "    DFF_traces = np.nan*np.ones(exp_traces.shape)\n",
    "    for counter in range(DFF_traces.shape[2]): #DF/F calculation (exp_traces/baseline)-1\n",
    "        DFF_traces[:,:,counter] = (exp_traces[:,:,counter]/baseline)-1\n",
    "    rois_N = DFF_traces.shape[0]\n",
    "    response_frames_N = DFF_traces.shape[2]\n",
    "    stimparams = cn.getStimulusTable('/Volumes/Brain2015/CAM/' + filename + '/' + filename + '.nwb')    \n",
    "    orientations = np.unique(stimparams['orientation'])\n",
    "    orientations = orientations[~np.isnan(orientations)]\n",
    "    print 'Orientations: ', orientations\n",
    "    TFs = np.unique(stimparams['temporal_frequency'])\n",
    "    TFs = TFs[~np.isnan(TFs)]\n",
    "    print 'TFs: ', TFs\n",
    "    \n",
    "    temp_traces = np.zeros((rois_N,0))\n",
    "    temp_orient = [] \n",
    "    temp_freq = []\n",
    "    temp_trial = []\n",
    "    for i, ori in enumerate(orientations):\n",
    "        print \"orient: \", ori\n",
    "        for k, tf in enumerate(TFs):\n",
    "            #print \"freq: \", tf\n",
    "            stimpairs= stimparams[(stimparams.orientation==ori) & (stimparams.temporal_frequency==tf)]\n",
    "            stimpairs_index = list(stimpairs.index)\n",
    "            t = DFF_traces[:,stimpairs_index,:]\n",
    "            t = t.squeeze()\n",
    "            t = np.reshape(t, (rois_N, len(stimpairs_index)*response_frames_N))\n",
    "            temp_traces = np.concatenate((temp_traces, t), axis=1)\n",
    "            temp_orient = np.concatenate((temp_orient, ori*np.ones(len(stimpairs_index)*response_frames_N)))\n",
    "            temp_freq = np.concatenate((temp_freq, tf*np.ones(len(stimpairs_index)*response_frames_N)))\n",
    "            \n",
    "            for j, trial_id in enumerate(stimpairs_index):\n",
    "                temp_trial = np.concatenate((temp_trial, trial_id*np.ones((response_frames_N))))\n",
    "    print temp_traces.shape, temp_orient.shape\n",
    "    fsave = '/Users/etaralova/src/pa_2015/baselines/dff_data_' + filename + baseline_method + '.csv'\n",
    "    np.savetxt(fsave, temp_traces, fmt='%0.5f',delimiter=',')\n",
    "    fsave = '/Users/etaralova/src/pa_2015/baselines/dff_orient_' + filename + baseline_method + '.csv'\n",
    "    np.savetxt(fsave, temp_orient, fmt='%0d',delimiter=',')\n",
    "    fsave = '/Users/etaralova/src/pa_2015/baselines/dff_freq_' + filename + baseline_method + '.csv'\n",
    "    np.savetxt(fsave, temp_freq, fmt='%0d',delimiter=',')\n",
    "    fsave = '/Users/etaralova/src/pa_2015/baselines/dff_trials_' + filename + baseline_method + '.csv'\n",
    "    np.savetxt(fsave, temp_trial, fmt='%0d',delimiter=',')\n",
    "    print 'saved: ', fsave\n"
   ]
  },
  {
   "cell_type": "code",
   "execution_count": 148,
   "metadata": {
    "collapsed": false,
    "scrolled": true
   },
   "outputs": [
    {
     "name": "stdout",
     "output_type": "stream",
     "text": [
      "0 482923718\n",
      "Orientations:  [   0.  135.  270.   45.  180.  315.   90.  225.]\n",
      "TFs:  [  1.   2.   4.   8.  15.]\n",
      "Saved:  /Users/etaralova/src/pa_2015/baselines/tuning_482923718_mean_preStim_responses.csv\n",
      "1 482924833\n",
      "Orientations:  [ 135.  270.    0.   45.  180.  315.   90.  225.]\n",
      "TFs:  [  1.   2.   4.   8.  15.]\n",
      "Saved:  /Users/etaralova/src/pa_2015/baselines/tuning_482924833_mean_preStim_responses.csv\n",
      "2 483020038\n",
      "Orientations:  [   0.  135.  270.   45.  180.  315.   90.  225.]\n",
      "TFs:  [  1.   2.   4.   8.  15.]\n",
      "Saved:  /Users/etaralova/src/pa_2015/baselines/tuning_483020038_mean_preStim_responses.csv\n",
      "3 483020476\n",
      "Orientations:  [   0.  135.  270.   45.  180.  315.   90.  225.]\n",
      "TFs:  [  1.   2.   4.   8.  15.]\n",
      "Saved:  /Users/etaralova/src/pa_2015/baselines/tuning_483020476_mean_preStim_responses.csv\n",
      "4 483056972\n",
      "Orientations:  [   0.  135.  270.   45.  180.  315.   90.  225.]\n",
      "TFs:  [  1.   2.   4.   8.  15.]\n",
      "Saved:  /Users/etaralova/src/pa_2015/baselines/tuning_483056972_mean_preStim_responses.csv\n",
      "5 483059231\n",
      "Orientations:  [   0.  135.  270.   45.  180.  315.   90.  225.]\n",
      "TFs:  [  1.   2.   4.   8.  15.]\n",
      "Saved:  /Users/etaralova/src/pa_2015/baselines/tuning_483059231_mean_preStim_responses.csv\n",
      "6 483061828\n",
      "Orientations:  [   0.  135.  270.   45.  180.  315.   90.  225.]\n",
      "TFs:  [  1.   2.   4.   8.  15.]\n",
      "Saved:  /Users/etaralova/src/pa_2015/baselines/tuning_483061828_mean_preStim_responses.csv\n"
     ]
    }
   ],
   "source": [
    "#this code was written by S. Seeman\n",
    "tuning={}\n",
    "for x, filename in enumerate(group_ids):\n",
    "    print x,filename\n",
    "    exp_traces = traces[x]\n",
    "    baseline = np.load(path + 'baselines' + '/' + filename + baseline_method + '.npy')\n",
    "    baseline = baseline.T\n",
    "    DFF_traces = np.nan*np.ones(exp_traces.shape)\n",
    "    for counter in range(DFF_traces.shape[2]): #DF/F calculation (exp_traces/baseline)-1\n",
    "        DFF_traces[:,:,counter] = (exp_traces[:,:,counter]/baseline)-1\n",
    "    \n",
    "    mean_response= np.mean(DFF_traces[:,:,30:90], axis=2)\n",
    "    stimparams = cn.getStimulusTable('/Volumes/Brain2015/CAM/' + filename + '/' + filename + '.nwb')\n",
    "    \n",
    "    orientations = np.unique(stimparams['orientation'])\n",
    "    orientations = orientations[~np.isnan(orientations)]\n",
    "    print 'Orientations: ', orientations\n",
    "    TFs = np.unique(stimparams['temporal_frequency'])\n",
    "    TFs = TFs[~np.isnan(TFs)]\n",
    "    \n",
    "    print 'TFs: ', TFs\n",
    "    \n",
    "    summary_order = ['Orientation','Temporal_Frequency','# Trials']\n",
    "    stim_response = pd.DataFrame(index = range(len(orientations)*len(TFs)), \n",
    "                             columns = summary_order + range(mean_response.shape[0]))\n",
    "    blank_index = stimparams[(stimparams.blank_sweep)==1].index\n",
    "    blank_trials = DFF_traces[:,blank_index,:]\n",
    "    blank_mean = np.mean(mean_response[:,blank_index], axis=1)\n",
    "    blank_sd = np.std(mean_response[:,blank_index], axis=1)\n",
    "    s=0\n",
    "    for i, ori in enumerate(orientations):\n",
    "        for k, tf in enumerate(TFs):\n",
    "            stimpairs= stimparams[(stimparams.orientation==ori) & (stimparams.temporal_frequency==tf)]\n",
    "            stimpairs_index = list(stimpairs.index)\n",
    "            response = np.mean(mean_response[:,stimpairs_index], axis=1)\n",
    "            std_response = np.std(mean_response[:,stimpairs_index], axis=1)\n",
    "            stim_response_dict = {'Orientation': ori, 'Temporal_Frequency': tf,'#Trials': len(stimpairs_index)} \n",
    "            response_dict = {counter: response for counter, response in enumerate(response)}\n",
    "            stim_response_dict.update(response_dict)\n",
    "            stim_response.loc[s] = pd.Series(stim_response_dict)\n",
    "            s=s+1\n",
    "            \n",
    "    temptuning=pd.DataFrame(index=range(DFF_traces.shape[0]), columns = ['ROI'] + summary_order[:2])\n",
    "    for roi in range(DFF_traces.shape[0]):\n",
    "        peak = stim_response[roi].idxmax()\n",
    "        ori_tune = stim_response.Orientation[peak]\n",
    "        ori_orth = ori_tune-90\n",
    "        tf_tune = stim_response.Temporal_Frequency[peak]\n",
    "        #orth_response = stim_response\n",
    "        tuning_dict = {'ROI':roi,'Orientation':ori_tune,'Temporal_Frequency':tf_tune}\n",
    "        temptuning.loc[roi] = pd.Series(tuning_dict)\n",
    "        \n",
    "    #tuning[filename] = temptuning\n",
    "    fsave = '/Users/etaralova/src/pa_2015/baselines/tuning_' + filename + baseline_method + '.csv'\n",
    "    np.savetxt(fsave, temptuning, fmt='%0d,%0d,%0d',delimiter=',')\n",
    "    print 'Saved: ', fsave\n",
    "    \n"
   ]
  }
 ],
 "metadata": {
  "kernelspec": {
   "display_name": "Python 2",
   "language": "python",
   "name": "python2"
  },
  "language_info": {
   "codemirror_mode": {
    "name": "ipython",
    "version": 2
   },
   "file_extension": ".py",
   "mimetype": "text/x-python",
   "name": "python",
   "nbconvert_exporter": "python",
   "pygments_lexer": "ipython2",
   "version": "2.7.10"
  }
 },
 "nbformat": 4,
 "nbformat_minor": 0
}
