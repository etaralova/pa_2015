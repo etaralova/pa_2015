{
 "cells": [
  {
   "cell_type": "code",
   "execution_count": null,
   "metadata": {
    "collapsed": false
   },
   "outputs": [],
   "source": [
    "import cPickle as pickle\n",
    "import numpy as np\n",
    "import pandas as pd\n",
    "import h5py\n",
    "import matplotlib.pyplot as plt\n",
    "import CAM_NWB as cn\n",
    "\n",
    "%matplotlib inline"
   ]
  },
  {
   "cell_type": "code",
   "execution_count": null,
   "metadata": {
    "collapsed": false
   },
   "outputs": [],
   "source": [
    "path = ('/Volumes/Brain2015/CAM/') # change path to where the CAM data is\n",
    "pklfile = open(path+'CAM_Meta.pkl','r') # importing the compiled CAM meta data\n",
    "CAM_Meta = pickle.load(pklfile)\n",
    "pklfile.close()\n",
    "CAM_Meta.columns"
   ]
  },
  {
   "cell_type": "code",
   "execution_count": null,
   "metadata": {
    "collapsed": false
   },
   "outputs": [],
   "source": [
    "grouping = 'specimen' #pick out the grouping you are interested in looking at (ie. HVA, depth etc)\n",
    "groups= list(set(CAM_Meta[grouping]) )\n",
    "print groups"
   ]
  },
  {
   "cell_type": "code",
   "execution_count": null,
   "metadata": {
    "collapsed": false
   },
   "outputs": [],
   "source": [
    "group_of_interest = '185282' # select subgroup that you want to pull out (ie if you selected 'depth'\n",
    "                             # then you may want to look only at depths of 175)\n",
    "    \n",
    "subgroup = CAM_Meta[(CAM_Meta[grouping]==group_of_interest)]  \n",
    "subgroup_ids = subgroup.lims_id # get the file ids for the subgroup of interest\n",
    "print len(subgroup_ids) # this will be the number of files to pull out"
   ]
  },
  {
   "cell_type": "code",
   "execution_count": null,
   "metadata": {
    "collapsed": false
   },
   "outputs": [],
   "source": [
    "\"\"\"this is the meat of it. going through each file (x), extracting the raw fluorescence\n",
    "extracting the stimulus_table to get the number of trials. Then go through each roi or\n",
    "cell/neuron, for each roi go through each stimulus presentation and window the continuous\n",
    "rawF trace the length of the intersweep before 'start' through the stimulus presentation\n",
    "to the length of the intersweep after the end of the 'trail'. The 'short' variable accounts\n",
    "for instances when the length of the trace is off by a sample due to sampling misalignment\n",
    "between the rawF and stimuli acquisition. This creates the 3-d numpy array that is \n",
    "(roi, trial, samples) in size. This then gets appended to the traces list, so this is\n",
    "a list of arrays. It prints out which file you're on and it's shape just to track what's\n",
    "happening\"\"\"\n",
    "\n",
    "traces =[]\n",
    "sweeplength = 60 \n",
    "intersweep = 30\n",
    "\n",
    "for x, filename in enumerate(subgroup_ids):\n",
    "    print x\n",
    "    fnm = (path + filename + '/' + filename + '.nwb')\n",
    "    timestamps,rawF = cn.getFluorescenceTraces(fnm)\n",
    "    stimparams = cn.getStimulusTable(fnm)\n",
    "    temptraces = np.zeros((len(rawF),len(stimparams),(sweeplength+2*intersweep)))\n",
    "    for roi in range(len(rawF)):\n",
    "        for trial in range(len(stimparams)):\n",
    "            startsweep = stimparams.start[trial]-intersweep\n",
    "            endsweep = stimparams.start[trial]+sweeplength+intersweep\n",
    "            roi_trace = rawF[roi,startsweep:endsweep]\n",
    "            short = temptraces.shape[2]-(roi_trace.shape[0])   \n",
    "            if short>0:\n",
    "                missing_data = np.zeros(short)\n",
    "                roi_trace = np.append(roi_trace,missing_data)\n",
    "            temptraces[roi,trial,:] = roi_trace\n",
    "    print temptraces.shape\n",
    "    traces.append(temptraces)\n",
    "   "
   ]
  },
  {
   "cell_type": "code",
   "execution_count": null,
   "metadata": {
    "collapsed": false
   },
   "outputs": [],
   "source": [
    "np.save(path+'traces_' + group_of_interest + '.npy',traces) # save the file as a numpy arrays"
   ]
  }
 ],
 "metadata": {
  "kernelspec": {
   "display_name": "Python 2",
   "language": "python",
   "name": "python2"
  },
  "language_info": {
   "codemirror_mode": {
    "name": "ipython",
    "version": 2
   },
   "file_extension": ".py",
   "mimetype": "text/x-python",
   "name": "python",
   "nbconvert_exporter": "python",
   "pygments_lexer": "ipython2",
   "version": "2.7.10"
  }
 },
 "nbformat": 4,
 "nbformat_minor": 0
}
